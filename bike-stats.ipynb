{
 "cells": [
  {
   "cell_type": "markdown",
   "metadata": {},
   "source": [
    "# Data Analysis with Pandas(bike-stats) // Anas Abuhatab // 11/15/2021"
   ]
  },
  {
   "cell_type": "code",
   "execution_count": 19,
   "metadata": {},
   "outputs": [
    {
     "name": "stderr",
     "output_type": "stream",
     "text": [
      "/home/anashatab/vg-stats/.venv/lib/python3.9/site-packages/IPython/core/interactiveshell.py:3444: FutureWarning: The error_bad_lines argument has been deprecated and will be removed in a future version.\n",
      "\n",
      "\n",
      "  exec(code_obj, self.user_global_ns, self.user_ns)\n",
      "b'Skipping line 50794: expected 12 fields, saw 20\\n'\n"
     ]
    }
   ],
   "source": [
    "import pandas as pa\n",
    "\n",
    "\n",
    "df_trip = pa.read_csv(\"trip.csv\",error_bad_lines=False)\n",
    "df_station =pa.read_csv(\"station.csv\")\n",
    "df_Weather = pa.read_csv(\"weather.csv\")\n"
   ]
  },
  {
   "cell_type": "markdown",
   "metadata": {},
   "source": [
    "### 1.What is the average trip duration for a borrowed bicycle?"
   ]
  },
  {
   "cell_type": "code",
   "execution_count": 20,
   "metadata": {},
   "outputs": [
    {
     "data": {
      "text/plain": [
       "1178.2956753399776"
      ]
     },
     "execution_count": 20,
     "metadata": {},
     "output_type": "execute_result"
    }
   ],
   "source": [
    "avg_duration = df_trip.tripduration.mean()\n",
    "avg_duration"
   ]
  },
  {
   "cell_type": "markdown",
   "metadata": {},
   "source": [
    "### 2. What's the most common age of a bicycle-sharer?"
   ]
  },
  {
   "cell_type": "code",
   "execution_count": 21,
   "metadata": {},
   "outputs": [
    {
     "data": {
      "text/plain": [
       "34.0"
      ]
     },
     "execution_count": 21,
     "metadata": {},
     "output_type": "execute_result"
    }
   ],
   "source": [
    "age = abs(df_trip[\"birthyear\"].value_counts().idxmax() -2021)\n",
    "age"
   ]
  },
  {
   "cell_type": "markdown",
   "metadata": {},
   "source": [
    "### 3. Given all the weather data here, find the average precipitation per month, and the median precipitation."
   ]
  },
  {
   "cell_type": "code",
   "execution_count": 52,
   "metadata": {},
   "outputs": [
    {
     "data": {
      "text/plain": [
       "Date\n",
       "2014-10    0.300526\n",
       "2014-11    0.141667\n",
       "2014-12    0.145161\n",
       "2015-01    0.070645\n",
       "2015-02    0.163214\n",
       "2015-03    0.135161\n",
       "2015-04    0.056667\n",
       "2015-05    0.014194\n",
       "2015-06    0.005667\n",
       "2015-07    0.008710\n",
       "2015-08    0.035484\n",
       "2015-09    0.041000\n",
       "2015-10    0.120645\n",
       "2015-11    0.234000\n",
       "2015-12    0.327419\n",
       "2016-01    0.216452\n",
       "2016-02    0.173448\n",
       "2016-03    0.178710\n",
       "2016-04    0.046000\n",
       "2016-05    0.010645\n",
       "2016-06    0.055333\n",
       "2016-07    0.015484\n",
       "2016-08    0.000968\n",
       "Freq: M, Name: Precipitation_In, dtype: float64"
      ]
     },
     "execution_count": 52,
     "metadata": {},
     "output_type": "execute_result"
    }
   ],
   "source": [
    "mean = df_Weather.groupby(pa.PeriodIndex(df_Weather['Date'], freq=\"M\"))['Precipitation_In'].mean()\n",
    "mean\n"
   ]
  },
  {
   "cell_type": "markdown",
   "metadata": {},
   "source": [
    "### 4. What's the average number of bikes at a given bike station?"
   ]
  },
  {
   "cell_type": "code",
   "execution_count": 55,
   "metadata": {},
   "outputs": [
    {
     "data": {
      "text/plain": [
       "17.586206896551722"
      ]
     },
     "execution_count": 55,
     "metadata": {},
     "output_type": "execute_result"
    }
   ],
   "source": [
    "avg_bikes = df_station[\"install_dockcount\"].mean()\n",
    "avg_bikes"
   ]
  },
  {
   "cell_type": "markdown",
   "metadata": {},
   "source": [
    "### 5. When a bike station is modified, is it more likely that it'll lose bikes or gain bikes? How do you know?"
   ]
  },
  {
   "cell_type": "code",
   "execution_count": 86,
   "metadata": {},
   "outputs": [],
   "source": [
    "unmodified_bike_avg = df_station[\"install_dockcount\"].sum()\n",
    "modified_bike_avg = df_station[\"current_dockcount\"].sum()\n",
    "avg = unmodified_bike_avg - modified_bike_avg"
   ]
  },
  {
   "cell_type": "code",
   "execution_count": 87,
   "metadata": {},
   "outputs": [
    {
     "name": "stdout",
     "output_type": "stream",
     "text": [
      "Success!!!\n"
     ]
    }
   ],
   "source": [
    "def test():\n",
    "\n",
    "    def assert_equal(actual,expected):\n",
    "        assert actual == expected, f\"Expected {expected} but got {actual}\"\n",
    "\n",
    "    assert_equal(avg_duration, 1178.2956753399776)\n",
    "    assert_equal(age, 34)\n",
    "    assert_equal(mean[0], 0.3005263157894737)\n",
    "    assert_equal(avg_bikes, 17.586206896551722)\n",
    "    assert_equal(avg,62)\n",
    "  \n",
    "    print(\"Success!!!\")\n",
    "\n",
    "test()\n"
   ]
  }
 ],
 "metadata": {
  "interpreter": {
   "hash": "badfe09212845fdaf4abb85d9dc8daf6d38365ceb089cf83f18755b6bc1a5812"
  },
  "kernelspec": {
   "display_name": "Python 3.9.5 64-bit ('.venv': poetry)",
   "language": "python",
   "name": "python3"
  },
  "language_info": {
   "codemirror_mode": {
    "name": "ipython",
    "version": 3
   },
   "file_extension": ".py",
   "mimetype": "text/x-python",
   "name": "python",
   "nbconvert_exporter": "python",
   "pygments_lexer": "ipython3",
   "version": "3.9.5"
  },
  "orig_nbformat": 4
 },
 "nbformat": 4,
 "nbformat_minor": 2
}
