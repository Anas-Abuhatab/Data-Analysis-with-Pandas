{
 "cells": [
  {
   "cell_type": "markdown",
   "metadata": {},
   "source": [
    "# Data Analysis with Pandas(Video Game Sales) // Anas Abuhatab // 11/15/2021"
   ]
  },
  {
   "cell_type": "code",
   "execution_count": 10,
   "metadata": {},
   "outputs": [
    {
     "data": {
      "text/plain": [
       "Index(['Rank', 'Name', 'Platform', 'Year', 'Genre', 'Publisher', 'NA_Sales',\n",
       "       'EU_Sales', 'JP_Sales', 'Other_Sales', 'Global_Sales'],\n",
       "      dtype='object')"
      ]
     },
     "execution_count": 10,
     "metadata": {},
     "output_type": "execute_result"
    }
   ],
   "source": [
    "import pandas as pa\n",
    "\n",
    "gf = pa.read_csv(\"vgsales.csv\")\n",
    "gf.keys()"
   ]
  },
  {
   "cell_type": "markdown",
   "metadata": {},
   "source": [
    "### 1. Which company is the most common video game publisher?"
   ]
  },
  {
   "cell_type": "code",
   "execution_count": 11,
   "metadata": {},
   "outputs": [
    {
     "data": {
      "text/plain": [
       "'Electronic Arts'"
      ]
     },
     "execution_count": 11,
     "metadata": {},
     "output_type": "execute_result"
    }
   ],
   "source": [
    "the_most_common_video_game_publisher = gf[[\"Publisher\"]].value_counts().idxmax()\n",
    "most_common_publisher=the_most_common_video_game_publisher[0]\n",
    "most_common_publisher"
   ]
  },
  {
   "cell_type": "markdown",
   "metadata": {},
   "source": [
    "### 2. What’s the most common platform?\n"
   ]
  },
  {
   "cell_type": "code",
   "execution_count": 12,
   "metadata": {},
   "outputs": [
    {
     "data": {
      "text/plain": [
       "'DS'"
      ]
     },
     "execution_count": 12,
     "metadata": {},
     "output_type": "execute_result"
    }
   ],
   "source": [
    "the_most_common_video_game_platform = gf[[\"Platform\"]].value_counts().idxmax()\n",
    "most_common_platform=the_most_common_video_game_platform[0]\n",
    "most_common_platform"
   ]
  },
  {
   "cell_type": "markdown",
   "metadata": {},
   "source": [
    "## 3.What about the most common genre?"
   ]
  },
  {
   "cell_type": "code",
   "execution_count": 13,
   "metadata": {},
   "outputs": [
    {
     "data": {
      "text/plain": [
       "'Action'"
      ]
     },
     "execution_count": 13,
     "metadata": {},
     "output_type": "execute_result"
    }
   ],
   "source": [
    "the_most_common_video_game_genre = gf[[\"Genre\"]].value_counts().idxmax()\n",
    "most_common_genre=the_most_common_video_game_genre[0]\n",
    "most_common_genre"
   ]
  },
  {
   "cell_type": "markdown",
   "metadata": {},
   "source": [
    "## 4.What are the top 20 highest grossing games?"
   ]
  },
  {
   "cell_type": "code",
   "execution_count": 14,
   "metadata": {},
   "outputs": [
    {
     "data": {
      "text/plain": [
       "'Brain Age: Train Your Brain in Minutes a Day'"
      ]
     },
     "execution_count": 14,
     "metadata": {},
     "output_type": "execute_result"
    }
   ],
   "source": [
    "the_most_common_video_game_grossing_games = gf[[\"Name\",\"Global_Sales\"]]\n",
    "top_twenty_highest_grossing_games=the_most_common_video_game_grossing_games.head(20)\n",
    "top_twenty_highest_grossing_games.iloc[19].Name"
   ]
  },
  {
   "cell_type": "markdown",
   "metadata": {},
   "source": [
    "### 5. For North American video game sales, what's the median? 10games"
   ]
  },
  {
   "cell_type": "code",
   "execution_count": 15,
   "metadata": {},
   "outputs": [
    {
     "data": {
      "text/plain": [
       "['Spider-Man: Edge of Time',\n",
       " 'Turok: Evolution',\n",
       " 'Deadpool',\n",
       " 'GT Advance 2: Rally Racing',\n",
       " \"A Witch's Tale\",\n",
       " 'Nickelodeon Dance',\n",
       " 'Phantasy Star Collection',\n",
       " \"LEGO Knights' Kingdom\",\n",
       " 'Family Game Night 4: The Game Show',\n",
       " 'NBA Jam 2002']"
      ]
     },
     "execution_count": 15,
     "metadata": {},
     "output_type": "execute_result"
    }
   ],
   "source": [
    "the_most_common_video_game_north_american = gf[\"NA_Sales\"].median()\n",
    "na_median_sales=the_most_common_video_game_north_american\n",
    "na_median_sales\n",
    "\n",
    "ten_median_na_seller_names= gf[gf[\"NA_Sales\"] == na_median_sales].sort_values('Rank',ascending=True).iloc[224:234]\n",
    "ten_median_na_seller_names=list(ten_median_na_seller_names.Name.values)\n",
    "ten_median_na_seller_names\n"
   ]
  },
  {
   "cell_type": "markdown",
   "metadata": {},
   "source": [
    "### 6. For the top-selling game of all time, how many standard deviations above/below the mean are its sales for North America?"
   ]
  },
  {
   "cell_type": "code",
   "execution_count": 16,
   "metadata": {},
   "outputs": [
    {
     "data": {
      "text/plain": [
       "50.47898767479108"
      ]
     },
     "execution_count": 16,
     "metadata": {},
     "output_type": "execute_result"
    }
   ],
   "source": [
    "top_selling_game = gf.NA_Sales.iloc[0]\n",
    "top_to_mean = top_selling_game - gf[\"NA_Sales\"].mean()\n",
    "std = top_to_mean / gf[\"NA_Sales\"].std()\n",
    "std\n"
   ]
  },
  {
   "cell_type": "markdown",
   "metadata": {},
   "source": [
    "### 7. The Nintendo Wii seems to have outdone itself with games. How does its average number of sales compare with all of the other platforms?"
   ]
  },
  {
   "cell_type": "code",
   "execution_count": 17,
   "metadata": {},
   "outputs": [
    {
     "data": {
      "text/plain": [
       "0.6994037735849057"
      ]
     },
     "execution_count": 17,
     "metadata": {},
     "output_type": "execute_result"
    }
   ],
   "source": [
    "Wii = gf[gf[\"Platform\"] == 'Wii'].Global_Sales.mean()\n",
    "not_Wii =  gf[gf[\"Platform\"] != 'Wii'].Global_Sales.mean()\n",
    "Wii"
   ]
  },
  {
   "cell_type": "code",
   "execution_count": 18,
   "metadata": {},
   "outputs": [
    {
     "name": "stdout",
     "output_type": "stream",
     "text": [
      "Success!!!\n"
     ]
    }
   ],
   "source": [
    "def test():\n",
    "\n",
    "    def assert_equal(actual,expected):\n",
    "        assert actual == expected, f\"Expected {expected} but got {actual}\"\n",
    "\n",
    "    assert_equal(most_common_publisher, 'Electronic Arts')\n",
    "    assert_equal(most_common_platform, 'DS')\n",
    "    assert_equal(most_common_genre, 'Action')\n",
    "    assert_equal(top_twenty_highest_grossing_games.iloc[0].Name, 'Wii Sports')\n",
    "    assert_equal(top_twenty_highest_grossing_games.iloc[19].Name, 'Brain Age: Train Your Brain in Minutes a Day')\n",
    "    assert_equal(na_median_sales, 0.08)\n",
    "    assert_equal(ten_median_na_seller_names, ['Spider-Man: Edge of Time', 'Turok: Evolution', 'Deadpool',\n",
    "       'GT Advance 2: Rally Racing', \"A Witch's Tale\",\n",
    "       'Nickelodeon Dance', 'Phantasy Star Collection',\n",
    "       \"LEGO Knights' Kingdom\", 'Family Game Night 4: The Game Show','NBA Jam 2002'])\n",
    "    assert_equal(std , 50.47898767479108)\n",
    "    assert_equal(Wii , 0.6994037735849057)\n",
    "    assert_equal(not_Wii , 0.5233896418516336)\n",
    "    print(\"Success!!!\")\n",
    "\n",
    "test()\n"
   ]
  }
 ],
 "metadata": {
  "interpreter": {
   "hash": "badfe09212845fdaf4abb85d9dc8daf6d38365ceb089cf83f18755b6bc1a5812"
  },
  "kernelspec": {
   "display_name": "Python 3.9.5 64-bit ('.venv': poetry)",
   "language": "python",
   "name": "python3"
  },
  "language_info": {
   "codemirror_mode": {
    "name": "ipython",
    "version": 3
   },
   "file_extension": ".py",
   "mimetype": "text/x-python",
   "name": "python",
   "nbconvert_exporter": "python",
   "pygments_lexer": "ipython3",
   "version": "3.9.5"
  },
  "orig_nbformat": 4
 },
 "nbformat": 4,
 "nbformat_minor": 2
}
